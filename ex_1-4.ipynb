{
 "cells": [
  {
   "cell_type": "markdown",
   "metadata": {},
   "source": [
    "<h2 style=\"color:#f0b904\">Setting up API Conection</h2>"
   ]
  },
  {
   "cell_type": "code",
   "execution_count": 1,
   "metadata": {},
   "outputs": [],
   "source": [
    "import qiskit"
   ]
  },
  {
   "cell_type": "code",
   "execution_count": 2,
   "metadata": {},
   "outputs": [],
   "source": [
    "from qiskit_ibm_runtime import QiskitRuntimeService\n",
    "from dotenv import load_dotenv\n",
    "import os\n",
    "\n",
    "dotenv_path = \"../.env\"\n",
    "load_dotenv(dotenv_path)\n",
    "api_key = os.getenv(\"IBM_API_KEY\")\n",
    "if api_key is None:\n",
    "    raise ValueError(\"API key not found in .env file\")\n",
    "\n",
    "# Save the API key to the Qiskit runtime service, further calls to the service will use this key\n",
    "QiskitRuntimeService.save_account(\n",
    "    token=api_key,\n",
    "    overwrite=True,\n",
    "    channel=\"ibm_quantum\",\n",
    "    )\n",
    "api_key = None # Clear the API key from memory, good practice\n",
    "\n",
    "service = QiskitRuntimeService()\n"
   ]
  },
  {
   "cell_type": "markdown",
   "metadata": {},
   "source": [
    "<h1 style=\"color:#f0b904\"> Ex 1: Querying Backend availability </h1>\n",
    "\n",
    "<ul>\n",
    "<li>qiskit.IBMQ (Part of qiskit-terra):\n",
    "    \n",
    "    Used to manage access to IBM Quantum cloud-based similators and Quantum devices\n",
    "    IBMQ is now deprecated (Kinda).\n",
    "</li>\n",
    "<br>\n",
    "<li>qiskit_ibm_runtime:\n",
    "    \n",
    "    This is the new way of accessing the IBM quantum services.\n",
    "    Since IBMQ is deprecated we will be using this module instead.\n",
    "</li>\n",
    "</ul>\n",
    "\n"
   ]
  },
  {
   "cell_type": "code",
   "execution_count": 3,
   "metadata": {},
   "outputs": [
    {
     "name": "stdout",
     "output_type": "stream",
     "text": [
      "Quantum Devices:\n",
      "\tibm_brisbane:        Queue:   122  Qbits: 127\n",
      "\tibm_kyiv:            Queue:   436  Qbits: 127\n",
      "\tibm_sherbrooke:      Queue:   223  Qbits: 127\n",
      "\n",
      "Simulators:\n",
      "\tNo simulators available\n"
     ]
    }
   ],
   "source": [
    "operational_backends = service.backends(operational=True)\n",
    "\n",
    "qback = []\n",
    "sback = []\n",
    "\n",
    "for b in operational_backends:\n",
    "    status = b.status()\n",
    "    if b.simulator:\n",
    "        sback.append(f\"\\t{(b.name + ':'):<20} Queue: {status.pending_jobs:5}  Qbits: {b.num_qubits:3}\")\n",
    "    else:\n",
    "        qback.append(f\"\\t{(b.name + ':'):<20} Queue: {status.pending_jobs:5}  Qbits: {b.num_qubits:3}\")\n",
    "\n",
    "print(\"Quantum Devices:\")\n",
    "if len(qback) == 0:\n",
    "    print(\"\\tNo quantum devices available\")\n",
    "else:\n",
    "    for b in qback:\n",
    "        print(b)\n",
    "print(\"\\nSimulators:\")\n",
    "if len(sback) == 0:\n",
    "    print(\"\\tNo simulators available\")\n",
    "else:\n",
    "    for b in sback:\n",
    "        print(b)\n"
   ]
  },
  {
   "cell_type": "markdown",
   "metadata": {
    "vscode": {
     "languageId": "html"
    }
   },
   "source": [
    "<h1 style=\"color:#f0b904\">Ex 2: Superposition</h1>\n",
    "<p>Here we have to put a single Qbit in a superposition state, meaning that it's state is in-between 2 energy levels.\n",
    "<br>Its state will thus become probabilistic/random and not fixed.\n",
    "<br>This is done through a Hadamard gate:</p>\n",
    "\n",
    "\n"
   ]
  },
  {
   "cell_type": "markdown",
   "metadata": {
    "vscode": {
     "languageId": "latex"
    }
   },
   "source": [
    "The Hadamard gate is represented as:\n",
    "$$\n",
    "\\mathbf{H} = \\frac{1}{\\sqrt{2}} \\begin{pmatrix} 1 & 1 \\\\ 1 & -1 \\end{pmatrix}\n",
    "$$"
   ]
  },
  {
   "cell_type": "code",
   "execution_count": 4,
   "metadata": {},
   "outputs": [
    {
     "data": {
      "image/png": "[encoded data removed]",
      "text/plain": [
       "<Figure size 269.064x200.667 with 1 Axes>"
      ]
     },
     "execution_count": 4,
     "metadata": {},
     "output_type": "execute_result"
    }
   ],
   "source": [
    "from qiskit import QuantumCircuit\n",
    "\n",
    "qc = QuantumCircuit(1, 1)\n",
    "\n",
    "qc.h(0)\n",
    "qc.measure(0, 0)\n",
    "qc.draw(output=\"mpl\")"
   ]
  },
  {
   "cell_type": "code",
   "execution_count": 5,
   "metadata": {},
   "outputs": [
    {
     "name": "stdout",
     "output_type": "stream",
     "text": [
      "{'1': 249, '0': 251}\n",
      "Pr 0: 0.5020  Pr 1: 0.4980\n"
     ]
    }
   ],
   "source": [
    "from qiskit.quantum_info import Statevector\n",
    "#from qiskit.providers.basic_provider import BasicSimulator\n",
    "from qiskit_aer import AerSimulator\n",
    "\n",
    "saer = AerSimulator()\n",
    "\n",
    "shot_count = 500\n",
    "qc_aer = qiskit.transpile(qc, backend=saer)\n",
    "result = saer.run(qc_aer, shots=shot_count).result()\n",
    "counts = result.get_counts()\n",
    "print(counts)\n",
    "\n",
    "counts['0'] = counts['0'] / shot_count\n",
    "counts['1'] = counts['1'] / shot_count\n",
    "print(f\"Pr 0: {counts['0']:.4f}  Pr 1: {counts['1']:.4f}\")\n"
   ]
  },
  {
   "cell_type": "code",
   "execution_count": 6,
   "metadata": {},
   "outputs": [
    {
     "data": {
      "image/png": "[encoded data removed]",
      "text/plain": [
       "<Figure size 640x480 with 1 Axes>"
      ]
     },
     "execution_count": 6,
     "metadata": {},
     "output_type": "execute_result"
    }
   ],
   "source": [
    "from qiskit.visualization import plot_histogram\n",
    "\n",
    "plot_histogram(counts)\n"
   ]
  },
  {
   "cell_type": "markdown",
   "metadata": {},
   "source": [
    "<h1 style=\"color:#f0b904\">Ex 3: Entanglement</h1>\n",
    "<p>In Quantum mechanics a group of particules (Qbits in our case) is said to be Entangled if they are linked such that the colapse of one particules will collapse all of them, this is the exact phenomenon that makes Quantum-Computing somewhat useful</p>\n",
    "\n",
    "<p>In this exercise we have to Entangle 2 Qbits and measure their <i>bell-state</i></p>"
   ]
  },
  {
   "cell_type": "code",
   "execution_count": 7,
   "metadata": {},
   "outputs": [
    {
     "data": {
      "image/png": "[encoded data removed]",
      "text/plain": [
       "<Figure size 580.387x284.278 with 1 Axes>"
      ]
     },
     "execution_count": 7,
     "metadata": {},
     "output_type": "execute_result"
    }
   ],
   "source": [
    "qc = QuantumCircuit(2, 0)\n",
    "\n",
    "qc.h(0)\n",
    "# qc.h(1)\n",
    "qc.cx(0, 1) # Apply CNOT to qbits 1 with 0 as control, meaning if q0 = 1, flip q1\n",
    "qc.measure_all()\n",
    "qc.draw(output=\"mpl\")"
   ]
  },
  {
   "cell_type": "code",
   "execution_count": 8,
   "metadata": {},
   "outputs": [
    {
     "name": "stdout",
     "output_type": "stream",
     "text": [
      "{'11': 247, '00': 253}\n",
      "Result(backend_name='aer_simulator', backend_version='0.15.0', qobj_id='', job_id='10b8c03b-47dc-4d00-a3f5-dacbd238bd02', success=True, results=[ExperimentResult(shots=500, success=True, meas_level=2, data=ExperimentResultData(counts={'0x3': 247, '0x0': 253}), header=QobjExperimentHeader(creg_sizes=[['meas', 2]], global_phase=0.0, memory_slots=2, n_qubits=2, name='circuit-168', qreg_sizes=[['q', 2]], metadata={}), status=DONE, seed_simulator=3566966509, metadata={'time_taken': 0.000837271, 'num_bind_params': 1, 'parallel_state_update': 8, 'parallel_shots': 1, 'required_memory_mb': 0, 'input_qubit_map': [[1, 1], [0, 0]], 'method': 'stabilizer', 'device': 'CPU', 'num_qubits': 2, 'sample_measure_time': 0.000179699, 'active_input_qubits': [0, 1], 'num_clbits': 2, 'remapped_qubits': False, 'runtime_parameter_bind': False, 'max_memory_mb': 15678, 'noise': 'ideal', 'measure_sampling': True, 'batched_shots_optimization': False, 'fusion': {'enabled': False}}, time_taken=0.000837271)], date=2024-09-07T18:00:51.772208, status=COMPLETED, header=None, metadata={'time_taken_parameter_binding': 9.025e-06, 'time_taken_execute': 0.000860892, 'omp_enabled': True, 'max_gpu_memory_mb': 0, 'max_memory_mb': 15678, 'parallel_experiments': 1}, time_taken=0.0012133121490478516)\n"
     ]
    }
   ],
   "source": [
    "qc_aer = qiskit.transpile(qc, backend=saer)\n",
    "result = saer.run(qc_aer, shots=shot_count).result()\n",
    "counts = result.get_counts()\n",
    "print(counts)\n",
    "print(result)"
   ]
  },
  {
   "cell_type": "code",
   "execution_count": 9,
   "metadata": {},
   "outputs": [
    {
     "data": {
      "image/png": "[encoded data removed]",
      "text/plain": [
       "<Figure size 640x480 with 1 Axes>"
      ]
     },
     "execution_count": 9,
     "metadata": {},
     "output_type": "execute_result"
    }
   ],
   "source": [
    "from qiskit.visualization import plot_histogram\n",
    "\n",
    "for key in counts:\n",
    "    counts[key] = counts[key] / shot_count\n",
    "plot_histogram(counts)\n"
   ]
  },
  {
   "cell_type": "markdown",
   "metadata": {},
   "source": [
    "We here have a 2 circuit Qbits, first we put q0 in a superposition state using an H-gate as before.<br>\n",
    "And now we want to entangle the q1 with q0, for this we use a CX (CNOT) gate, which will effectively entangle them.<br>\n",
    "Now each measurment will collapse both state at the same time."
   ]
  },
  {
   "cell_type": "markdown",
   "metadata": {},
   "source": [
    "<h1 style=\"color:#f0b904\">Ex 4: Noise</h1>\n",
    "\n",
    "<p>Here we will have to set-up the circuit to be run on an Actual IBM quantum computer instead of using a local simulator</p>"
   ]
  },
  {
   "cell_type": "code",
   "execution_count": 10,
   "metadata": {},
   "outputs": [
    {
     "name": "stdout",
     "output_type": "stream",
     "text": [
      "Transpiling complete\n"
     ]
    }
   ],
   "source": [
    "from qiskit import transpile\n",
    "\n",
    "qc = QuantumCircuit(2, 2)\n",
    "\n",
    "qc.h(0)\n",
    "qc.cx(0, 1) # Apply CNOT to qbits 1 with 0 as control, meaning if q0 = 1, flip q1\n",
    "qc.measure(0, 0)\n",
    "qc.measure(1, 1)\n",
    "qc.draw(output=\"mpl\")\n",
    "\n",
    "# Check the queue and take the best one\n",
    "backend_name = 'ibm_brisbane'\n",
    "backend = service.backend(backend_name)\n",
    "# Transpile the circuit, aka, compile it for the specific Quantum device you are gonna use\n",
    "qc_transpiled = transpile(qc, backend=backend, optimization_level=1)\n",
    "\n",
    "print(f\"Transpiling complete\")"
   ]
  },
  {
   "cell_type": "code",
   "execution_count": 11,
   "metadata": {},
   "outputs": [
    {
     "name": "stdout",
     "output_type": "stream",
     "text": [
      "Job Done\n"
     ]
    }
   ],
   "source": [
    "from qiskit_ibm_runtime import SamplerV2 as Sampler\n",
    "\n",
    "shots=500\n",
    "\n",
    "# Re compute if needed\n",
    "#sampler = Sampler(mode=backend)\n",
    "#job = sampler.run([qc_transpiled])\n",
    "#job_id = job.job_id()\n",
    "#print(f\"Job Id: {job_id}\")\n",
    "\n",
    "# Pre-computed: cvaatqtsgfsg008e7bqg\n",
    "job = service.job('cvaatqtsgfsg008e7bqg')\n",
    "\n",
    "result = job.result()\n",
    "print(\"Job Done\")\n"
   ]
  },
  {
   "cell_type": "code",
   "execution_count": 12,
   "metadata": {},
   "outputs": [
    {
     "name": "stdout",
     "output_type": "stream",
     "text": [
      "Result: {'11': 237, '00': 241, '01': 17, '10': 5}\n"
     ]
    },
    {
     "data": {
      "image/png": "[encoded data removed]",
      "text/plain": [
       "<Figure size 640x480 with 1 Axes>"
      ]
     },
     "execution_count": 12,
     "metadata": {},
     "output_type": "execute_result"
    }
   ],
   "source": [
    "\n",
    "counts = result[0].data.c.get_counts()\n",
    "print(f\"Result: {counts}\")\n",
    "plot_histogram(counts)\n"
   ]
  }
 ],
 "metadata": {
  "kernelspec": {
   "display_name": "venv",
   "language": "python",
   "name": "python3"
  },
  "language_info": {
   "codemirror_mode": {
    "name": "ipython",
    "version": 3
   },
   "file_extension": ".py",
   "mimetype": "text/x-python",
   "name": "python",
   "nbconvert_exporter": "python",
   "pygments_lexer": "ipython3",
   "version": "3.11.2"
  }
 },
 "nbformat": 4,
 "nbformat_minor": 2
}
