{
 "cells": [
  {
   "cell_type": "markdown",
   "metadata": {},
   "source": [
    "<h2 style=\"color:#f0b904\">Setting up API Conection</h2>"
   ]
  },
  {
   "cell_type": "code",
   "execution_count": 6,
   "metadata": {},
   "outputs": [],
   "source": [
    "from dotenv import load_dotenv\n",
    "from qiskit_ibm_runtime import QiskitRuntimeService\n",
    "import os\n",
    "import qiskit\n",
    "\n",
    "dotenv_path = \"../.env\"\n",
    "load_dotenv(dotenv_path)\n",
    "api_key = os.getenv(\"IBM_API_KEY\")\n",
    "if api_key is None:\n",
    "    raise ValueError(\"API key not found in .env file\")\n",
    "\n",
    "# Save the API key to the Qiskit runtime service, further calls to the service will use this key\n",
    "QiskitRuntimeService.save_account(\n",
    "    token=api_key,\n",
    "    overwrite=True,\n",
    "    channel=\"ibm_quantum\",\n",
    "    )\n",
    "api_key = None # Clear the API key from memory, good practice\n",
    "\n",
    "service = QiskitRuntimeService()\n"
   ]
  },
  {
   "cell_type": "markdown",
   "metadata": {},
   "source": [
    "<h1 style=\"color:#f0b904\"> Ex 1: Querying Backend availability </h1>\n",
    "\n",
    "<ul>\n",
    "<li>qiskit.IBMQ (Part of qiskit-terra):\n",
    "    \n",
    "    Used to manage access to IBM Quantum cloud-based similators and Quantum devices\n",
    "    IBMQ is now deprecated (Kinda).\n",
    "</li>\n",
    "<br>\n",
    "<li>qiskit_ibm_runtime:\n",
    "    \n",
    "    This is the new way of accessing the IBM quantum services.\n",
    "    Since IBMQ is deprecated we will be using this module instead.\n",
    "</li>\n",
    "</ul>\n",
    "\n"
   ]
  },
  {
   "cell_type": "code",
   "execution_count": null,
   "metadata": {},
   "outputs": [],
   "source": [
    "operational_backends = service.backends(operational=True)\n",
    "\n",
    "qback = []\n",
    "sback = []\n",
    "\n",
    "for b in operational_backends:\n",
    "    status = b.status()\n",
    "    if b.simulator:\n",
    "        sback.append(f\"\\t{(b.name + ':'):<20} Queue: {status.pending_jobs:5}  Qbits: {b.num_qubits:3}\")\n",
    "    else:\n",
    "        qback.append(f\"\\t{(b.name + ':'):<20} Queue: {status.pending_jobs:5}  Qbits: {b.num_qubits:3}\")\n",
    "\n",
    "print(\"Quantum Devices:\")\n",
    "if len(qback) == 0:\n",
    "    print(\"\\tNo quantum devices available\")\n",
    "else:\n",
    "    for b in qback:\n",
    "        print(b)\n",
    "print(\"\\nSimulators:\")\n",
    "if len(sback) == 0:\n",
    "    print(\"\\tNo simulators available\")\n",
    "else:\n",
    "    for b in sback:\n",
    "        print(b)\n"
   ]
  }
 ],
 "metadata": {
  "kernelspec": {
   "display_name": "venv",
   "language": "python",
   "name": "python3"
  },
  "language_info": {
   "codemirror_mode": {
    "name": "ipython",
    "version": 3
   },
   "file_extension": ".py",
   "mimetype": "text/x-python",
   "name": "python",
   "nbconvert_exporter": "python",
   "pygments_lexer": "ipython3",
   "version": "3.11.2"
  }
 },
 "nbformat": 4,
 "nbformat_minor": 2
}
