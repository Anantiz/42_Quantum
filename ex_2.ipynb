{
 "cells": [
  {
   "cell_type": "markdown",
   "metadata": {},
   "source": [
    "<h1 style=\"color:#f0b904\">Ex 2: Superposition</h1>\n",
    "<p>Here we have to put a single Qbit in a superposition state, meaning that it's state is in-between 2 energy levels.\n",
    "<br>Its state will thus become probabilistic/random and not fixed.\n",
    "<br>This is done through a Hadamard gate:</p>\n",
    "\n",
    "\n"
   ]
  },
  {
   "cell_type": "markdown",
   "metadata": {},
   "source": [
    "The Hadamard gate is represented as:\n",
    "$$\n",
    "\\mathbf{H} = \\frac{1}{\\sqrt{2}} \\begin{pmatrix} 1 & 1 \\\\ 1 & -1 \\end{pmatrix}\n",
    "$$"
   ]
  },
  {
   "cell_type": "code",
   "execution_count": 1,
   "metadata": {},
   "outputs": [],
   "source": [
    "import qiskit\n",
    "from qiskit import QuantumCircuit\n",
    "from qiskit_aer import AerSimulator\n",
    "from qiskit.visualization import plot_histogram\n"
   ]
  },
  {
   "cell_type": "code",
   "execution_count": null,
   "metadata": {},
   "outputs": [],
   "source": [
    "qc = QuantumCircuit(1, 1)\n",
    "\n",
    "qc.h(0)\n",
    "qc.measure(0, 0)\n",
    "qc.draw(output=\"mpl\")"
   ]
  },
  {
   "cell_type": "code",
   "execution_count": null,
   "metadata": {},
   "outputs": [],
   "source": [
    "saer = AerSimulator()\n",
    "shot_count = 500\n",
    "\n",
    "qc_aer = qiskit.transpile(qc, backend=saer)\n",
    "result = saer.run(qc_aer, shots=shot_count).result()\n",
    "counts = result.get_counts()\n",
    "print(counts)\n",
    "\n",
    "counts['0'] = counts['0'] / shot_count\n",
    "counts['1'] = counts['1'] / shot_count\n",
    "print(f\"Pr 0: {counts['0']:.4f}  Pr 1: {counts['1']:.4f}\")\n"
   ]
  },
  {
   "cell_type": "code",
   "execution_count": null,
   "metadata": {},
   "outputs": [],
   "source": [
    "plot_histogram(counts)"
   ]
  }
 ],
 "metadata": {
  "kernelspec": {
   "display_name": "venv",
   "language": "python",
   "name": "python3"
  },
  "language_info": {
   "codemirror_mode": {
    "name": "ipython",
    "version": 3
   },
   "file_extension": ".py",
   "mimetype": "text/x-python",
   "name": "python",
   "nbconvert_exporter": "python",
   "pygments_lexer": "ipython3",
   "version": "3.11.2"
  }
 },
 "nbformat": 4,
 "nbformat_minor": 2
}
