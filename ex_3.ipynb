{
 "cells": [
  {
   "cell_type": "markdown",
   "metadata": {},
   "source": [
    "<h1 style=\"color:#f0b904\">Ex 3: Entanglement</h1>\n",
    "<p>In Quantum mechanics a group of particules (Qbits in our case) is said to be Entangled if they are linked such that the colapse of one particules will collapse all of them, this is the exact phenomenon that makes Quantum-Computing somewhat useful</p>\n",
    "\n",
    "<p>In this exercise we have to Entangle 2 Qbits and measure their <i>bell-state</i></p>"
   ]
  },
  {
   "cell_type": "code",
   "execution_count": 1,
   "metadata": {},
   "outputs": [],
   "source": [
    "import qiskit\n",
    "from qiskit import QuantumCircuit\n",
    "from qiskit_aer import AerSimulator\n",
    "from qiskit.visualization import plot_histogram"
   ]
  },
  {
   "cell_type": "code",
   "execution_count": null,
   "metadata": {},
   "outputs": [],
   "source": [
    "qc = QuantumCircuit(2, 0)\n",
    "\n",
    "qc.h(0)\n",
    "qc.cx(0, 1) # Apply CNOT to qbits 1 with 0 as control, meaning if q0 = 1, flip q1\n",
    "qc.measure_all()\n",
    "qc.draw(output=\"mpl\")"
   ]
  },
  {
   "cell_type": "code",
   "execution_count": null,
   "metadata": {},
   "outputs": [],
   "source": [
    "saer = AerSimulator()\n",
    "shot_count = 500\n",
    "\n",
    "qc_aer = qiskit.transpile(qc, backend=saer)\n",
    "result = saer.run(qc_aer, shots=shot_count).result()\n",
    "counts = result.get_counts()\n",
    "\n",
    "print(counts)\n",
    "print(result)"
   ]
  },
  {
   "cell_type": "code",
   "execution_count": null,
   "metadata": {},
   "outputs": [],
   "source": [
    "for key in counts:\n",
    "    counts[key] = counts[key] / shot_count\n",
    "plot_histogram(counts)\n"
   ]
  },
  {
   "cell_type": "markdown",
   "metadata": {},
   "source": [
    "We here have a 2 circuit Qbits, first we put q0 in a superposition state using an H-gate as before.<br>\n",
    "And now we want to entangle the q1 with q0, for this we use a CX (CNOT) gate, which will effectively entangle them.<br>\n",
    "Now each measurment will collapse both state at the same time."
   ]
  }
 ],
 "metadata": {
  "kernelspec": {
   "display_name": "venv",
   "language": "python",
   "name": "python3"
  },
  "language_info": {
   "codemirror_mode": {
    "name": "ipython",
    "version": 3
   },
   "file_extension": ".py",
   "mimetype": "text/x-python",
   "name": "python",
   "nbconvert_exporter": "python",
   "pygments_lexer": "ipython3",
   "version": "3.11.2"
  }
 },
 "nbformat": 4,
 "nbformat_minor": 2
}
