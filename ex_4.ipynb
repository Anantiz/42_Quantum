{
 "cells": [
  {
   "cell_type": "markdown",
   "metadata": {},
   "source": [
    "<h1 style=\"color:#f0b904\">Ex 4: Noise</h1>\n",
    "\n",
    "<p>Here we will have to set-up the circuit to be run on an Actual IBM quantum computer instead of using a local simulator</p>"
   ]
  },
  {
   "cell_type": "code",
   "execution_count": 2,
   "metadata": {},
   "outputs": [],
   "source": [
    "import qiskit\n",
    "from qiskit import QuantumCircuit\n",
    "from qiskit import transpile\n",
    "from qiskit.visualization import plot_histogram\n",
    "from qiskit_ibm_runtime import QiskitRuntimeService\n",
    "from qiskit_ibm_runtime import SamplerV2\n",
    "\n",
    "service = QiskitRuntimeService()"
   ]
  },
  {
   "cell_type": "code",
   "execution_count": null,
   "metadata": {},
   "outputs": [],
   "source": [
    "qc = QuantumCircuit(2, 2)\n",
    "\n",
    "qc.h(0)\n",
    "qc.cx(0, 1) # Apply CNOT to qbits 1 with 0 as control, meaning if q0 = 1, flip q1\n",
    "qc.measure(0, 0)\n",
    "qc.measure(1, 1)\n",
    "\n",
    "\n",
    "# Check the queue and take the best one\n",
    "backend = service.least_busy(operational=True, simulator=False)\n",
    "print(f\"Runing simulation on: {backend.name}\")\n",
    "\n",
    "# Transpile the circuit, aka, compile it for the specific Quantum device you are gonna use\n",
    "qc_transpiled = transpile(qc, backend=backend, optimization_level=1)\n",
    "\n",
    "print(f\"Transpiling complete\")\n",
    "# qc_transpiled.draw(output=\"mpl\")"
   ]
  },
  {
   "cell_type": "code",
   "execution_count": null,
   "metadata": {},
   "outputs": [],
   "source": [
    "# Re compute if needed\n",
    "#sampler = SamplerV2(mode=backend)\n",
    "#job = sampler.run([qc_transpiled], shots=200) # 200 Shots is well enough and it avoids wasting Quantum-resources\n",
    "#job_id = job.job_id()\n",
    "#print(f\"Job Id: {job_id}\")\n",
    "\n",
    "# Pre-computed: cvaatqtsgfsg008e7bqg\n",
    "job = service.job('cvaatqtsgfsg008e7bqg')\n",
    "\n",
    "result = job.result()\n",
    "print(\"Job Done\")"
   ]
  },
  {
   "cell_type": "code",
   "execution_count": 7,
   "metadata": {},
   "outputs": [
    {
     "name": "stdout",
     "output_type": "stream",
     "text": [
      "Result: {'11': 237, '00': 241, '01': 17, '10': 5}\n"
     ]
    },
    {
     "data": {
      "image/png": "[encoded data removed]",
      "text/plain": [
       "<Figure size 640x480 with 1 Axes>"
      ]
     },
     "execution_count": 7,
     "metadata": {},
     "output_type": "execute_result"
    }
   ],
   "source": [
    "counts = result[0].data.c.get_counts()\n",
    "print(f\"Result: {counts}\")\n",
    "plot_histogram(counts)"
   ]
  }
 ],
 "metadata": {
  "kernelspec": {
   "display_name": "venv",
   "language": "python",
   "name": "python3"
  },
  "language_info": {
   "codemirror_mode": {
    "name": "ipython",
    "version": 3
   },
   "file_extension": ".py",
   "mimetype": "text/x-python",
   "name": "python",
   "nbconvert_exporter": "python",
   "pygments_lexer": "ipython3",
   "version": "3.11.2"
  }
 },
 "nbformat": 4,
 "nbformat_minor": 2
}
