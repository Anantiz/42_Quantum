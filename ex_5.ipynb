{
 "cells": [
  {
   "cell_type": "markdown",
   "metadata": {},
   "source": [
    "<h1 style=\"color:gold\">Ex 5: Deutsch-Jozsa Algorithm</h1>\n"
   ]
  },
  {
   "cell_type": "markdown",
   "metadata": {},
   "source": [
    "The Deutsh-Josza Algorithm serves no purpose but to ilustrates what Quantum computers are good at, which is evaluating a range of inputs all at once.\n",
    "\n",
    "Whereas a classical computer would run such algorithm in O(2^n-1), effectively evaluating half the input range, a quantum computer with n-qbits can do it in O(1) so constant time.\n",
    "\n",
    "Leveraging quantum entanglement and superposition<br>"
   ]
  },
  {
   "cell_type": "markdown",
   "metadata": {},
   "source": [
    "<h2>Qubits: Three Key Concepts Enabling Advanced Computation</h2>\n",
    "\n",
    "<ul>\n",
    "    <li><b>Superposition and Hilbert Space</b>: Qubits live in a <i>Hilbert space</i>, meaning they can exist in a superposition of the |0> and |1> states (They are vectors). This allows qubits to \"explore\" many possibilities simultaneously during computation. However, when measured, the qubit collapses to either |0> or |1>, similar to binary values.</li><br>\n",
    "    <li><b>Measurement</b>: While qubits can be in a \"floating\" superposition state during computation, they become \"bound\" to a binary value—either |0> or |1>—when we measure them.</li><br>\n",
    "    <li><b>Exponential Growth through Entanglement</b>: In classical systems, adding a bit increases the total number of possible states exponentially in terms of the \"space size\" (O(2^n)), where n is the number of bits. Each bit can be 0 or 1, so the more bits you have, the more possible configurations the system can store. However, with qubits, each additional qubit increases the <i>dimensionality</i> of the system's state space exponentially. Qubits are vectors in a high-dimensional space, and when we entangle them, they interact in such a way that the system's state becomes exponentially more complex. This means the <b>dimensional space</b> the qubits can explore grows as O(2^n), but this scaling is not about the number of possible binary configurations; it's about the increasing complexity of the system's overall state as a <i>vector</i>.</li>\n",
    "\n",
    "\n",
    "\n",
    "</ul>\n",
    "\n",
    "<h3>Hilbert Space and Measurement</h3>\n",
    "\n",
    "<p>A qubit's state is a vector in a Hilbert space. For a single qubit, the basis vectors are:</p>\n",
    "<ul>\n",
    "    <li>The |0> state: <span style=\"font-family: monospace\">(1, 0)</span></li>\n",
    "    <li>The |1> state: <span style=\"font-family: monospace\">(0, 1)</span></li>\n",
    "</ul>\n",
    "\n",
    "<p>During computation, a qubit’s state is a superposition of these basis vectors:</p>\n",
    "\n",
    "<p><i>ψ</i> = <i>α</i>|0> + <i>β</i>|1>, where α and β are complex numbers, and |α|² + |β|² = 1.</p>\n",
    "\n",
    "<p>When you measure the qubit, it collapses to either |0> or |1>, based on the probabilities |α|² and |β|².</p>\n"
   ]
  },
  {
   "cell_type": "code",
   "execution_count": 1,
   "metadata": {},
   "outputs": [],
   "source": [
    "from qiskit import QuantumCircuit\n",
    "from qiskit_aer import AerSimulator\n",
    "from qiskit.visualization import plot_histogram, plot_bloch_multivector\n",
    "import math as m\n",
    "import matplotlib"
   ]
  },
  {
   "cell_type": "code",
   "execution_count": 2,
   "metadata": {},
   "outputs": [],
   "source": [
    "quasm_sim = AerSimulator(target=\"quasm_simulator\")\n",
    "statevec_sim = AerSimulator(target=\"satevector_simulator\")"
   ]
  },
  {
   "cell_type": "code",
   "execution_count": 3,
   "metadata": {},
   "outputs": [],
   "source": [
    "def balanced_oracle(qc: QuantumCircuit, qbits_count: int):\n",
    "    \"\"\"Entangle each |x> with |y>\"\"\"\n",
    "    for n in range(qbits_count - 1):\n",
    "        qc.cx(n, qbits_count - 1)\n",
    "\n",
    "def constant_oracle_all_zero(qc, qbits_count):\n",
    "    \"\"\"Do nothing, since |x> is init to |0> it's the same as outputing constant |0>\"\"\"\n",
    "    return\n",
    "\n",
    "def constant_oracle_all_one(qc, qbits_count):\n",
    "    \"\"\"Put them all to |1>\"\"\"\n",
    "    for n in range(qbits_count - 1):\n",
    "        qc.ry(m.pi ,n)\n",
    "    return"
   ]
  },
  {
   "cell_type": "code",
   "execution_count": 4,
   "metadata": {},
   "outputs": [],
   "source": [
    "qbits_count = 4\n",
    "\n",
    "if qbits_count < 3:\n",
    "    qbits_count = 3\n",
    "if qbits_count > 16:\n",
    "    qbits_count = 16\n",
    "\n",
    "\n",
    "qc = QuantumCircuit(qbits_count, qbits_count - 1)\n",
    "my_range = range(qbits_count)\n",
    "\n",
    "qc.ry(m.pi, qbits_count - 1) # Set the last qbits to -|1>\n",
    "qc.barrier()\n",
    "for n in my_range: # Put all Qbits in superposition: 1/sqrt(2) * (|0> + |1>)\n",
    "    qc.h(n)\n",
    "qc.barrier()\n",
    "\n",
    "# Select an oracle to test\n",
    "# balanced_oracle(qc, qbits_count)\n",
    "constant_oracle_all_one(qc, qbits_count)\n",
    "# constant_oracle_all_zero(qc, qbits_count)\n",
    "qc.barrier()\n",
    "\n",
    "my_range = my_range[:-1]\n",
    "\n",
    "for n in my_range:\n",
    "    qc.h(n)\n",
    "qc.save_statevector()\n",
    "qc.measure(my_range, my_range) # Measure elements from the Qbits list into the Cbits list\n",
    "\n",
    "if qbits_count < 5:\n",
    "    qc.draw()\n",
    "else:\n",
    "    print(f\"Qbitcount: {qbits_count}\")\n"
   ]
  },
  {
   "cell_type": "code",
   "execution_count": null,
   "metadata": {},
   "outputs": [],
   "source": [
    "state_vec = statevec_sim.run(qc).result().get_statevector(qc)\n",
    "plot_bloch_multivector(state_vec)"
   ]
  },
  {
   "cell_type": "code",
   "execution_count": null,
   "metadata": {},
   "outputs": [],
   "source": [
    "counts = quasm_sim.run(qc).result().get_counts()\n",
    "plot_histogram(counts)"
   ]
  }
 ],
 "metadata": {
  "kernelspec": {
   "display_name": "venv",
   "language": "python",
   "name": "python3"
  },
  "language_info": {
   "codemirror_mode": {
    "name": "ipython",
    "version": 3
   },
   "file_extension": ".py",
   "mimetype": "text/x-python",
   "name": "python",
   "nbconvert_exporter": "python",
   "pygments_lexer": "ipython3",
   "version": "3.11.2"
  }
 },
 "nbformat": 4,
 "nbformat_minor": 2
}
