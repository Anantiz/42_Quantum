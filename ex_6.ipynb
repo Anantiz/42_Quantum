{
 "cells": [
  {
   "cell_type": "markdown",
   "metadata": {},
   "source": [
    "<h1 style=\"color:gold\">Ex 6: Grover's Algorithm</h1>\n"
   ]
  },
  {
   "cell_type": "markdown",
   "metadata": {},
   "source": [
    "Consider f(x) being a query to any kind of search-space, if f(x)=1 then x is the solution to our search, be it either an index in a data-base or the input to a more complex function.\n",
    "The x for which f(x)=1 is by convention called ω\n"
   ]
  },
  {
   "cell_type": "code",
   "execution_count": 31,
   "metadata": {},
   "outputs": [],
   "source": [
    "import qiskit\n",
    "from qiskit import QuantumCircuit, QuantumRegister\n",
    "from qiskit_aer import AerSimulator\n",
    "from qiskit.visualization import plot_histogram, plot_bloch_multivector\n",
    "from qiskit_ibm_runtime import QiskitRuntimeService\n",
    "from qiskit_ibm_runtime import SamplerV2 as Sampler\n",
    "from qiskit.circuit.library import GroverOperator, MCMT, ZGate, XGate\n",
    "\n",
    "import math as m\n",
    "import matplotlib\n",
    "import random"
   ]
  },
  {
   "cell_type": "markdown",
   "metadata": {},
   "source": [
    "Input -> Grover -> oracle-check -> Result"
   ]
  },
  {
   "cell_type": "code",
   "execution_count": 32,
   "metadata": {},
   "outputs": [],
   "source": [
    "def decompose_some_large_gate(circuit, gate, controls: list, targets: list, ancilas: list):\n",
    "    if (len(targets) != 1 or len(controls) < 2): # Not dealing with this right now\n",
    "        raise ValueError(msg=\"Not supported\")\n",
    "\n",
    "    initial_controls(circuit, gate, controls, targets, ancilas, 0)\n",
    "    circuit.barrier()\n",
    "    if (gate == 'x'):\n",
    "        circuit.cx(ancilas[len(ancilas) - 1], targets[0])\n",
    "    elif (gate == 'z'):\n",
    "        circuit.cz(ancilas[len(ancilas) - 1], targets[0])\n",
    "    circuit.barrier()\n",
    "    reverse_controls(circuit, gate, controls, targets, ancilas, 0)\n",
    "\n",
    "def initial_controls(circuit, gate, controls: list, targets: list, ancilas: list, depth: int):\n",
    "    \"\"\"\n",
    "    Call with depth set to 0\n",
    "    \"\"\"\n",
    "    ctrl_len = len(controls)\n",
    "    anc_len = len(ancilas)\n",
    "\n",
    "    if (ctrl_len - depth == 2):\n",
    "        if (gate == 'x'):\n",
    "            circuit.mcx([controls[0], controls[1]], ancilas[0])\n",
    "        elif (gate == 'z'):\n",
    "            circuit.cz([controls[0], controls[1]], ancilas[0])\n",
    "    else:\n",
    "        initial_controls(circuit, gate, controls, targets, ancilas, depth + 1)\n",
    "        # Add Control on a new control-qbit and a previously used ancila\n",
    "        if (gate == 'x'):\n",
    "            circuit.mcx([controls[ctrl_len - depth - 1], ancilas[anc_len- depth - 2]], ancilas[anc_len- depth - 1])\n",
    "        elif (gate == 'z'):\n",
    "            circuit.mcz([controls[ctrl_len - depth - 1], ancilas[anc_len- depth - 2]], ancilas[anc_len- depth - 1])\n",
    "\n",
    "def reverse_controls(circuit, gate, controls: list, targets: list, ancilas: list, depth: int):\n",
    "    \"\"\"\n",
    "    Call with depth set to 0\n",
    "    \"\"\"\n",
    "    ctrl_len = len(controls)\n",
    "    anc_len = len(ancilas)\n",
    "\n",
    "    if (ctrl_len - depth == 2):\n",
    "        if (gate == 'x'):\n",
    "            circuit.mcx([controls[0], controls[1]], ancilas[0])\n",
    "        elif (gate == 'z'):\n",
    "            circuit.mcz([controls[0], controls[1]], ancilas[0])\n",
    "    else:\n",
    "        # Add Control on a new control-qbit and a previously used ancila\n",
    "        if (gate == 'x'):\n",
    "            circuit.mcx([controls[ctrl_len - depth - 1], ancilas[anc_len- depth - 2]], ancilas[anc_len- depth - 1])\n",
    "        if (gate == 'z'):\n",
    "            circuit.mcz([controls[ctrl_len - depth - 1], ancilas[anc_len- depth - 2]], ancilas[anc_len- depth - 1])\n",
    "        reverse_controls(circuit, gate, controls, targets, ancilas, depth + 1)"
   ]
  },
  {
   "cell_type": "code",
   "execution_count": 33,
   "metadata": {},
   "outputs": [],
   "source": [
    "def grover_oracle(oracle: QuantumCircuit, marked_states: list[str], num_qubits):\n",
    "    \"\"\"Build a Grover oracle for multiple marked states\n",
    "\n",
    "    Here we assume all input marked states have the same number of bits\n",
    "\n",
    "    Parameters:\n",
    "        marked_states (str or list): Marked states of oracle\n",
    "\n",
    "    Returns:\n",
    "        QuantumCircuit: Quantum circuit representing Grover oracle\n",
    "    \"\"\"\n",
    "    if not isinstance(marked_states, list):\n",
    "        marked_states = [marked_states]\n",
    "    # Mark each target state in the input list\n",
    "    for target in marked_states:\n",
    "        # Flip target bit-string to match Qiskit bit-ordering\n",
    "        rev_target = target[::-1]\n",
    "        # Find the indices of all the '0' elements in the bit-string\n",
    "        zero_inds = [ind for ind in range(num_qubits) if rev_target.startswith(\"0\", ind)]\n",
    "        if len(zero_inds) == 0:\n",
    "            continue\n",
    "        # Add a multi-controlled Z-gate with pre- and post-applied X-gates (open-controls)\n",
    "        # where the target bit-string has a '0' entry\n",
    "        oracle.x(zero_inds)\n",
    "        # oracle.barrier()\n",
    "        oracle.compose(MCMT(ZGate(), num_qubits - 1, 1).decompose(), inplace=True) # Produces c4z gates that cannot be executed\n",
    "        # oracle.compose(MCMT(ZGate(), num_qubits - 1, 1), inplace=True) # Produces c4z gates that cannot be executed\n",
    "        # oracle.barrier()\n",
    "        oracle.x(zero_inds)\n",
    "    return oracle"
   ]
  },
  {
   "cell_type": "code",
   "execution_count": 34,
   "metadata": {},
   "outputs": [],
   "source": [
    "def apply_diffusion_operator(oracle, num_qubits, ranges):\n",
    "    n_range = range(num_qubits)\n",
    "\n",
    "    diffused = oracle.copy()\n",
    "    diffused.h(n_range)\n",
    "    diffused.x(n_range)\n",
    "\n",
    "    diffused.h(num_qubits - 1)\n",
    "    # decompose_some_large_gate(diffused, 'x', ranges[0], ranges[1], ranges[2]) # Doesn't work for the decomposed MCMT ZGATE created by the oracle, bruh\n",
    "    diffused.compose(MCMT(XGate(), num_qubits - 1, 1).decompose(), inplace=True)\n",
    "    # diffused.compose(MCMT(XGate(), num_qubits - 1, 1), inplace=True)\n",
    "    diffused.h(num_qubits - 1)\n",
    "\n",
    "    diffused.x(n_range)\n",
    "    diffused.h(n_range)\n",
    "    return diffused"
   ]
  },
  {
   "cell_type": "code",
   "execution_count": 35,
   "metadata": {},
   "outputs": [
    {
     "name": "stdout",
     "output_type": "stream",
     "text": [
      "nqbits: 3\n"
     ]
    },
    {
     "data": {
      "text/plain": [
       "<qiskit.circuit.quantumcircuit.QuantumCircuit at 0x7fee0564cf50>"
      ]
     },
     "execution_count": 35,
     "metadata": {},
     "output_type": "execute_result"
    }
   ],
   "source": [
    "marked = [\"010\", \"001\"]\n",
    "# marked = [\"0000\", \"1000\", \"1001\", \"1010\"]\n",
    "for s in marked:\n",
    "    if len(s) != len(marked[0]):\n",
    "        raise ValueError(msg=\"Error\")\n",
    "\n",
    "nqbits = len(marked[0])\n",
    "total_qbits = nqbits\n",
    "print(f\"nqbits: {nqbits}\")\n",
    "ranges = ()\n",
    "\n",
    "###########################################3\n",
    "### HOT-GARBAGE\n",
    "# total_qbits += nqbits - 1 # If using Ancilas\n",
    "# ctrl = QuantumRegister(nqbits - 1, 'control')\n",
    "# target = QuantumRegister(1, 'target')\n",
    "# ancilas = QuantumRegister(nqbits - 2, 'ancilas')\n",
    "# c_range = [c for c in range(nqbits - 1)]\n",
    "# t_range = [nqbits - 1]\n",
    "# a_range = [c + nqbits for c in range(nqbits - 2)]\n",
    "# ranges = (c_range, t_range, a_range)\n",
    "# print(f\"total_qbits: {nqbits + nqbits - 1}, c: {c_range}, a: {a_range}, t:{t_range}\")\n",
    "# oracle = QuantumCircuit(ctrl, target, ancilas)\n",
    "###########################################3\n",
    "\n",
    "oracle = QuantumCircuit(nqbits)\n",
    "grover_oracle(oracle, marked, nqbits)\n",
    "# oracle.barrier()\n",
    "# oracle.draw() # Just way too big to draw"
   ]
  },
  {
   "cell_type": "markdown",
   "metadata": {},
   "source": [
    "The diffusion reverse the bit-state changes that the oracle might made to Q, but it keeps the phase unchanged"
   ]
  },
  {
   "cell_type": "code",
   "execution_count": 36,
   "metadata": {},
   "outputs": [
    {
     "name": "stdout",
     "output_type": "stream",
     "text": [
      "depth: 36\n"
     ]
    },
    {
     "data": {
      "text/html": [
       "<pre style=\"word-wrap: normal;white-space: pre;background: #fff0;line-height: 1.1;font-family: &quot;Courier New&quot;,Courier,monospace\">     ┌───┐                                                     »\n",
       "q_0: ┤ X ├──■───────────────────────────────────────────────■──»\n",
       "     └───┘  │                                               │  »\n",
       "q_1: ───────┼──────────────────────■────────────────────────┼──»\n",
       "     ┌───┐┌─┴─┐┌────────────────┐┌─┴─┐┌──────────────────┐┌─┴─┐»\n",
       "q_2: ┤ X ├┤ X ├┤ U(0,-π/8,-π/8) ├┤ X ├┤ U(0,-7π/8,-7π/8) ├┤ X ├»\n",
       "     └───┘└───┘└────────────────┘└───┘└──────────────────┘└───┘»\n",
       "«                                                ┌───┐          »\n",
       "«q_0: ─────────────────────────────■─────────────┤ X ├───────■──»\n",
       "«                                  │P(π/2)       ├───┤       │  »\n",
       "«q_1: ────────────────────■────────■─────────────┤ X ├───────┼──»\n",
       "«     ┌────────────────┐┌─┴─┐┌──────────────────┐├───┤┌───┐┌─┴─┐»\n",
       "«q_2: ┤ U(0,-π/8,-π/8) ├┤ X ├┤ U(0,-7π/8,-7π/8) ├┤ X ├┤ X ├┤ X ├»\n",
       "«     └────────────────┘└───┘└──────────────────┘└───┘└───┘└───┘»\n",
       "«                                                                            »\n",
       "«q_0: ─────────────────────────────────────────────■─────────────────────────»\n",
       "«                                                  │                         »\n",
       "«q_1: ────────────────────■────────────────────────┼──────────────────────■──»\n",
       "«     ┌────────────────┐┌─┴─┐┌──────────────────┐┌─┴─┐┌────────────────┐┌─┴─┐»\n",
       "«q_2: ┤ U(0,-π/8,-π/8) ├┤ X ├┤ U(0,-7π/8,-7π/8) ├┤ X ├┤ U(0,-π/8,-π/8) ├┤ X ├»\n",
       "«     └────────────────┘└───┘└──────────────────┘└───┘└────────────────┘└───┘»\n",
       "«                         ┌───┐┌───┐                                          »\n",
       "«q_0: ──────■─────────────┤ H ├┤ X ├─────────────────────────────■────────────»\n",
       "«           │P(π/2)       ├───┤├───┤┌───┐                        │            »\n",
       "«q_1: ──────■─────────────┤ X ├┤ H ├┤ X ├────────────■───────────┼─────────■──»\n",
       "«     ┌──────────────────┐├───┤├───┤├───┤┌───┐┌───┐┌─┴─┐┌─────┐┌─┴─┐┌───┐┌─┴─┐»\n",
       "«q_2: ┤ U(0,-7π/8,-7π/8) ├┤ X ├┤ H ├┤ X ├┤ H ├┤ H ├┤ X ├┤ Tdg ├┤ X ├┤ T ├┤ X ├»\n",
       "«     └──────────────────┘└───┘└───┘└───┘└───┘└───┘└───┘└─────┘└───┘└───┘└───┘»\n",
       "«                       ┌───┐      ┌───┐┌───┐\n",
       "«q_0: ─────────■────■───┤ T ├───■──┤ X ├┤ H ├\n",
       "«      ┌───┐   │  ┌─┴─┐┌┴───┴┐┌─┴─┐├───┤├───┤\n",
       "«q_1: ─┤ T ├───┼──┤ X ├┤ Tdg ├┤ X ├┤ X ├┤ H ├\n",
       "«     ┌┴───┴┐┌─┴─┐├───┤└┬───┬┘├───┤├───┤├───┤\n",
       "«q_2: ┤ Tdg ├┤ X ├┤ T ├─┤ H ├─┤ H ├┤ X ├┤ H ├\n",
       "«     └─────┘└───┘└───┘ └───┘ └───┘└───┘└───┘</pre>"
      ],
      "text/plain": [
       "     ┌───┐                                                     »\n",
       "q_0: ┤ X ├──■───────────────────────────────────────────────■──»\n",
       "     └───┘  │                                               │  »\n",
       "q_1: ───────┼──────────────────────■────────────────────────┼──»\n",
       "     ┌───┐┌─┴─┐┌────────────────┐┌─┴─┐┌──────────────────┐┌─┴─┐»\n",
       "q_2: ┤ X ├┤ X ├┤ U(0,-π/8,-π/8) ├┤ X ├┤ U(0,-7π/8,-7π/8) ├┤ X ├»\n",
       "     └───┘└───┘└────────────────┘└───┘└──────────────────┘└───┘»\n",
       "«                                                ┌───┐          »\n",
       "«q_0: ─────────────────────────────■─────────────┤ X ├───────■──»\n",
       "«                                  │P(π/2)       ├───┤       │  »\n",
       "«q_1: ────────────────────■────────■─────────────┤ X ├───────┼──»\n",
       "«     ┌────────────────┐┌─┴─┐┌──────────────────┐├───┤┌───┐┌─┴─┐»\n",
       "«q_2: ┤ U(0,-π/8,-π/8) ├┤ X ├┤ U(0,-7π/8,-7π/8) ├┤ X ├┤ X ├┤ X ├»\n",
       "«     └────────────────┘└───┘└──────────────────┘└───┘└───┘└───┘»\n",
       "«                                                                            »\n",
       "«q_0: ─────────────────────────────────────────────■─────────────────────────»\n",
       "«                                                  │                         »\n",
       "«q_1: ────────────────────■────────────────────────┼──────────────────────■──»\n",
       "«     ┌────────────────┐┌─┴─┐┌──────────────────┐┌─┴─┐┌────────────────┐┌─┴─┐»\n",
       "«q_2: ┤ U(0,-π/8,-π/8) ├┤ X ├┤ U(0,-7π/8,-7π/8) ├┤ X ├┤ U(0,-π/8,-π/8) ├┤ X ├»\n",
       "«     └────────────────┘└───┘└──────────────────┘└───┘└────────────────┘└───┘»\n",
       "«                         ┌───┐┌───┐                                          »\n",
       "«q_0: ──────■─────────────┤ H ├┤ X ├─────────────────────────────■────────────»\n",
       "«           │P(π/2)       ├───┤├───┤┌───┐                        │            »\n",
       "«q_1: ──────■─────────────┤ X ├┤ H ├┤ X ├────────────■───────────┼─────────■──»\n",
       "«     ┌──────────────────┐├───┤├───┤├───┤┌───┐┌───┐┌─┴─┐┌─────┐┌─┴─┐┌───┐┌─┴─┐»\n",
       "«q_2: ┤ U(0,-7π/8,-7π/8) ├┤ X ├┤ H ├┤ X ├┤ H ├┤ H ├┤ X ├┤ Tdg ├┤ X ├┤ T ├┤ X ├»\n",
       "«     └──────────────────┘└───┘└───┘└───┘└───┘└───┘└───┘└─────┘└───┘└───┘└───┘»\n",
       "«                       ┌───┐      ┌───┐┌───┐\n",
       "«q_0: ─────────■────■───┤ T ├───■──┤ X ├┤ H ├\n",
       "«      ┌───┐   │  ┌─┴─┐┌┴───┴┐┌─┴─┐├───┤├───┤\n",
       "«q_1: ─┤ T ├───┼──┤ X ├┤ Tdg ├┤ X ├┤ X ├┤ H ├\n",
       "«     ┌┴───┴┐┌─┴─┐├───┤└┬───┬┘├───┤├───┤├───┤\n",
       "«q_2: ┤ Tdg ├┤ X ├┤ T ├─┤ H ├─┤ H ├┤ X ├┤ H ├\n",
       "«     └─────┘└───┘└───┘ └───┘ └───┘└───┘└───┘"
      ]
     },
     "execution_count": 36,
     "metadata": {},
     "output_type": "execute_result"
    }
   ],
   "source": [
    "grover_operator = apply_diffusion_operator(oracle, nqbits, ranges)\n",
    "# grover_operator = GroverOperator(oracle).decompose()\n",
    "# grover_operator.barrier()\n",
    "print(f\"depth: {grover_operator.depth()}\")\n",
    "grover_operator.draw()"
   ]
  },
  {
   "cell_type": "markdown",
   "metadata": {},
   "source": [
    "Now create the grover circuit around the grover operator"
   ]
  },
  {
   "cell_type": "code",
   "execution_count": 37,
   "metadata": {},
   "outputs": [
    {
     "name": "stdout",
     "output_type": "stream",
     "text": [
      "Optimal iteration count: t = 1, with probability of success p=1.000000\n",
      "Depth: 38\n"
     ]
    }
   ],
   "source": [
    "N = 2**nqbits\n",
    "n_range = range(nqbits)\n",
    "\n",
    "# s is the number of solution\n",
    "# N is the number of state\n",
    "# t is the optimal iteration count\n",
    "# p is the probability of correct measurment\n",
    "\n",
    "s = len(marked)\n",
    "if (s > 0): # If we know the number of solutions: s\n",
    "    theta = m.asin(m.sqrt(s / N))\n",
    "    t = m.floor(m.pi / (4 * theta))\n",
    "    p = m.sin((2 * t + 1) * theta) ** 2\n",
    "    print(f\"Optimal iteration count: t = {t}, with probability of success p={p:0.6f}\")\n",
    "else: # Otherwise pick t at random in a this rangeL {1, pi*sqrt(N)/4}\n",
    "    t = random.randrange(1, m.floor(m.pi*m.sqrt(N)/4), 1)\n",
    "    print(f\"Number of solutions not known, picking random: t = {t}, p is at least 0.4\")\n",
    "\n",
    "# Build the circuit and apply t times the gover-operation\n",
    "grover_circuit = QuantumCircuit(total_qbits, nqbits)\n",
    "grover_circuit.h(n_range) # Set the whole circuit in an undefined state\n",
    "for _ in range(t):\n",
    "    grover_circuit.compose(grover_operator, inplace=True)\n",
    "\n",
    "grover_circuit.measure(n_range, n_range)\n",
    "print(f\"Depth: {grover_circuit.depth()}\")\n",
    "# grover_circuit.draw(output='mpl')\n"
   ]
  },
  {
   "cell_type": "markdown",
   "metadata": {},
   "source": [
    "## Run it on simulator"
   ]
  },
  {
   "cell_type": "code",
   "execution_count": 38,
   "metadata": {},
   "outputs": [
    {
     "data": {
      "image/png": "[encoded data removed]",
      "text/plain": [
       "<Figure size 700x500 with 1 Axes>"
      ]
     },
     "execution_count": 38,
     "metadata": {},
     "output_type": "execute_result"
    }
   ],
   "source": [
    "quasm_sim = AerSimulator()\n",
    "circtui_aer = qiskit.transpile(grover_circuit, backend=quasm_sim)\n",
    "\n",
    "counts = quasm_sim.run(grover_circuit).result().get_counts()\n",
    "qiskit.visualization.plot_distribution(counts)"
   ]
  },
  {
   "cell_type": "markdown",
   "metadata": {},
   "source": [
    "## Run it on a real Quantum-Computer"
   ]
  },
  {
   "cell_type": "code",
   "execution_count": 39,
   "metadata": {},
   "outputs": [
    {
     "name": "stdout",
     "output_type": "stream",
     "text": [
      "Runing simulation on: ibm_sherbrooke\n"
     ]
    }
   ],
   "source": [
    "# # To run on hardware, select the backend with the fewest number of jobs in the queue\n",
    "# service = QiskitRuntimeService(channel=\"ibm_quantum\")\n",
    "# backend = service.least_busy(operational=True, simulator=False)\n",
    "# print(f\"Runing simulation on: {backend.name}\")"
   ]
  },
  {
   "cell_type": "code",
   "execution_count": 40,
   "metadata": {},
   "outputs": [],
   "source": [
    "# from qiskit.transpiler.preset_passmanagers import generate_preset_pass_manager\n",
    "\n",
    "# target = backend.target\n",
    "# pm = generate_preset_pass_manager(target=target, optimization_level=3)\n",
    "\n",
    "# circuit_isa = pm.run(grover_circuit)\n",
    "# print(f\"grover_circuit depth: {grover_circuit.depth()}\\nIsa transpiled depth: {circuit_isa.depth()}\")"
   ]
  },
  {
   "cell_type": "code",
   "execution_count": 41,
   "metadata": {},
   "outputs": [],
   "source": [
    "# sampler = Sampler(mode=backend)\n",
    "# sampler.options.default_shots = 5_000\n",
    "# job = sampler.run([circuit_isa])\n",
    "# print(f\"Job_id: {job.job_id()}\")"
   ]
  },
  {
   "cell_type": "code",
   "execution_count": 42,
   "metadata": {},
   "outputs": [
    {
     "name": "stdout",
     "output_type": "stream",
     "text": [
      "Job status: DONE\n"
     ]
    }
   ],
   "source": [
    "service = QiskitRuntimeService()\n",
    "\n",
    "## 2 bits, oracle:[\"01\"]\n",
    "# job = service.job('cvpy5p620wjg008q2g5g')# 500 shots\n",
    "\n",
    "## 3 bits, oracle:[\"011\", \"100\"]\n",
    "job = service.job('cvp1syq20wjg008q0w8g') # 100 shots\n",
    "\n",
    "## ERROR :/, circuit is 741,699 depth, it is best contained abot not much more than a thousand\n",
    "# 12 bits, oracle:[\"000000000000\", \"000000100000\", \"000000100001\", \"000000100010\"]\n",
    "# job = service.job('cvpxcxk20wjg008q2f80') #250 shots\n",
    "\n",
    "## Didn't work on real device but works fine on simulators\n",
    "# 4bits, oracle:[\"0000\", \"1000\", \"1001\", \"1010\"], depth: 867\n",
    "# job = service.job('cvpxt1855th0008rqbbg') # 500 shots\n",
    "# job = service.job('cvqaaktzrmh0008g6ks0') # 5000 shots\n",
    "# Still too big\n",
    "# 4bits, oracle:[\"1101\"], depth: 739\n",
    "# job = service.job('cvqaw30zrmh0008g6mq0') # 5000 shots\n",
    "## --> Conclusion, Deep circuit are too much suceptible to noise, and idk how to make smaller oracles\n",
    "\n",
    "\n",
    "\n",
    "status = job.status()\n",
    "print(f\"Job status: {status}\")"
   ]
  },
  {
   "cell_type": "code",
   "execution_count": 44,
   "metadata": {},
   "outputs": [
    {
     "ename": "AttributeError",
     "evalue": "'DataBin' object has no attribute 'get_counts'",
     "output_type": "error",
     "traceback": [
      "\u001b[0;31m---------------------------------------------------------------------------\u001b[0m",
      "\u001b[0;31mAttributeError\u001b[0m                            Traceback (most recent call last)",
      "Cell \u001b[0;32mIn[44], line 3\u001b[0m\n\u001b[1;32m      1\u001b[0m result \u001b[38;5;241m=\u001b[39m job\u001b[38;5;241m.\u001b[39mresult()\n\u001b[0;32m----> 3\u001b[0m counts \u001b[38;5;241m=\u001b[39m \u001b[43mresult\u001b[49m\u001b[43m[\u001b[49m\u001b[38;5;241;43m0\u001b[39;49m\u001b[43m]\u001b[49m\u001b[38;5;241;43m.\u001b[39;49m\u001b[43mdata\u001b[49m\u001b[38;5;241;43m.\u001b[39;49m\u001b[43mget_counts\u001b[49m()\n\u001b[1;32m      4\u001b[0m \u001b[38;5;28mprint\u001b[39m(counts)\n\u001b[1;32m      6\u001b[0m qiskit\u001b[38;5;241m.\u001b[39mvisualization\u001b[38;5;241m.\u001b[39mplot_distribution(counts)\n",
      "\u001b[0;31mAttributeError\u001b[0m: 'DataBin' object has no attribute 'get_counts'"
     ]
    }
   ],
   "source": [
    "result = job.result()\n",
    "\n",
    "counts = result[0].data.c.get_counts()\n",
    "print(counts)\n",
    "\n",
    "qiskit.visualization.plot_distribution(counts)"
   ]
  },
  {
   "cell_type": "markdown",
   "metadata": {},
   "source": [
    "## Why is it faster ?"
   ]
  },
  {
   "cell_type": "markdown",
   "metadata": {},
   "source": [
    "The oracle inverse the phase so if the qbits states are: |0>,|0>,|0>,|0> the solutions will be marked as |0>,|0>,-|0>,|0>; \n",
    "When measured [|0>, -|0>]=0 and [|1>, -|1>]=1, the phase information is thus irrelevent to the phinal measurement.\n",
    "\n",
    "However it can still be used be used, when we inverse a state, the mean value of the system will decrease.\n",
    "\n",
    "The diffuser leverages this by flipping back the negative state not around the origin but around the mean, to balance itself out the system will reduce the probability of any other states to be at the mean.\n",
    "The result is a decreased probabilty for all other states but increasing the solution-state by twice the mean. "
   ]
  }
 ],
 "metadata": {
  "kernelspec": {
   "display_name": "venv",
   "language": "python",
   "name": "python3"
  },
  "language_info": {
   "codemirror_mode": {
    "name": "ipython",
    "version": 3
   },
   "file_extension": ".py",
   "mimetype": "text/x-python",
   "name": "python",
   "nbconvert_exporter": "python",
   "pygments_lexer": "ipython3",
   "version": "3.11.2"
  }
 },
 "nbformat": 4,
 "nbformat_minor": 2
}
