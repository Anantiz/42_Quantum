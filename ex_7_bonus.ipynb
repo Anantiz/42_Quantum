{
 "cells": [
  {
   "cell_type": "markdown",
   "metadata": {},
   "source": [
    "<h1 style=\"color:gold\">Bonus: Simon's Algorithm</h1>"
   ]
  },
  {
   "cell_type": "code",
   "execution_count": 82,
   "metadata": {},
   "outputs": [],
   "source": [
    "import qiskit\n",
    "from qiskit import QuantumCircuit, QuantumRegister, ClassicalRegister\n",
    "from qiskit_aer import AerSimulator\n",
    "from qiskit.visualization import plot_histogram, plot_bloch_multivector\n",
    "from qiskit_ibm_runtime import QiskitRuntimeService\n",
    "from qiskit_ibm_runtime import SamplerV2 as Sampler\n",
    "from qiskit.visualization import plot_distribution\n",
    "\n",
    "import math as m\n",
    "import matplotlib\n",
    "\n",
    "quasm_sim = AerSimulator()"
   ]
  },
  {
   "cell_type": "markdown",
   "metadata": {},
   "source": [
    "Simons algorithm is about finding a \"hidden\" subset in a group.\n",
    "\n",
    "We are seaching for `s` such that:\n",
    "- f(`x`) = f(`x` XOR `s`)\n",
    "- `s` and `x` belonging to `{0, 1}**n`\n",
    "- `s` != 0\n",
    "\n",
    "A simplified description of the algorithm goes like this:\n",
    "- Superpose the system\n",
    "- Send the system to an Oracle f(x) that uses the given register to compute f(x), we ignore the result\n",
    "- Measure the state of the `x` register once it went through the Oracle function, it will be in a superposition of `x` and `x^s`, measuring will yield either one\n",
    "- Collect `k` strings throuh `k` iterations to build a set of len (n-1) of linearly independent strings\n",
    "- You now have a system of linear equations that once solved will give `s`\n",
    "\n",
    "The reason is:\n",
    "- Since to be valid the oracle is a 2-to-1 function, there will be constructive interference where `x` and `x^s` will become the state with the highest amplitude for any `x` over the range"
   ]
  },
  {
   "cell_type": "code",
   "execution_count": 83,
   "metadata": {},
   "outputs": [],
   "source": [
    "def simon_oracle(qc, n, s):\n",
    "    s = s[::-1] # flip for qiskit\n",
    "    for i in range(n):\n",
    "        if s[i] == '1':\n",
    "            qc.cx(i, n + i )"
   ]
  },
  {
   "cell_type": "code",
   "execution_count": 84,
   "metadata": {},
   "outputs": [],
   "source": [
    "def execute_quantum_subroutine(qc, shots=500, method='aer'):\n",
    "    if method == 'aer':\n",
    "        qc_aer = qiskit.transpile(qc, backend=quasm_sim)\n",
    "        counts = quasm_sim.run(qc_aer, shots=shots).result().get_counts()\n",
    "        return counts\n",
    "    else:\n",
    "        raise ValueError(\"Method not supported\")\n"
   ]
  },
  {
   "cell_type": "code",
   "execution_count": 85,
   "metadata": {},
   "outputs": [],
   "source": [
    "def build_circuit(s):\n",
    "    \"\"\"\n",
    "    |x> register, register of search space\n",
    "    |z> register, register of oracle output\n",
    "    \"\"\"\n",
    "    n = len(s)\n",
    "\n",
    "    xq_register = QuantumRegister(n, name='x')\n",
    "    zq_register = QuantumRegister(n, name='z')\n",
    "    xc_register = ClassicalRegister(n, name='c')\n",
    "\n",
    "    qc = QuantumCircuit(xq_register, zq_register, xc_register)\n",
    "\n",
    "    # Superpose |x> register\n",
    "    qc.h(xq_register)\n",
    "\n",
    "    # Use the |x> register as input to the oracle\n",
    "    # It's state will become a superposition of `x` and `x^s`\n",
    "    qc.barrier()\n",
    "    simon_oracle(qc, n, s)\n",
    "    qc.barrier()\n",
    "\n",
    "    # Separate |x> register\n",
    "    qc.h(xq_register)\n",
    "    qc.measure(xq_register, xc_register)\n",
    "\n",
    "    return qc\n"
   ]
  },
  {
   "cell_type": "code",
   "execution_count": 86,
   "metadata": {},
   "outputs": [
    {
     "name": "stdout",
     "output_type": "stream",
     "text": [
      "Depth: 4\n"
     ]
    }
   ],
   "source": [
    "s = '00101' # The hidden substring to find\n",
    "\n",
    "n = len(s)\n",
    "simon_circuit = build_circuit(s)\n",
    "print(f\"Depth: {simon_circuit.depth()}\")\n",
    "# simon_circuit.draw()"
   ]
  },
  {
   "cell_type": "code",
   "execution_count": 87,
   "metadata": {},
   "outputs": [
    {
     "name": "stdout",
     "output_type": "stream",
     "text": [
      "{'000': 291, '001': 309}\n"
     ]
    }
   ],
   "source": [
    "shots = 200 * n\n",
    "\n",
    "counts = execute_quantum_subroutine(simon_circuit, shots)\n",
    "\n",
    "print(counts)"
   ]
  },
  {
   "cell_type": "markdown",
   "metadata": {},
   "source": [
    "Final step:\n",
    "- Create a set with `n-1` linearly independent  bitstrings.\n",
    "- This allows for a system of linear equations to find `s`\n",
    "- If the system has more than 1 or no solution the oracle is invalid\n",
    "\n",
    "#pain #sufferwithme"
   ]
  },
  {
   "cell_type": "code",
   "execution_count": 88,
   "metadata": {},
   "outputs": [],
   "source": [
    "def str_overlap(a, b):\n",
    "    for i in range(len(a)):\n",
    "        if b[i] == a[i] and a[i] == '1':\n",
    "            return True\n",
    "    return False\n",
    "\n",
    "\n",
    "def build_set(counts, n, shots=200*n):\n",
    "    \"\"\"\n",
    "    Builds a linearly independent set of bitstrings from the quantum subroutines.\n",
    "    \"\"\"\n",
    "    noise_threshold = max(1, shots // max(1, len(counts)) // 15)  # Avoid division by zero\n",
    "    li_set = set()\n",
    "\n",
    "    for key in counts.keys():\n",
    "        if key == ('0' * n):\n",
    "            continue\n",
    "        if counts[key] > noise_threshold:  # Filter out noisy results\n",
    "            # Check if the key is linearly independent from the current set\n",
    "            independent = True\n",
    "            for set_string in li_set:\n",
    "                if str_overlap(key, set_string):  # Linearly dependent if XOR gives all zeros\n",
    "                    independent = False\n",
    "                    break\n",
    "            # Add the key if it's independent\n",
    "            if independent:\n",
    "                li_set.add(key)\n",
    "            # Stop if we have n-1 independent bitstrings\n",
    "            if len(li_set) == n - 1:\n",
    "                return li_set\n",
    "\n",
    "    return li_set  # In case fewer than n-1 independent strings are found"
   ]
  },
  {
   "cell_type": "code",
   "execution_count": 89,
   "metadata": {},
   "outputs": [
    {
     "name": "stdout",
     "output_type": "stream",
     "text": [
      "{'001'}\n",
      "The hidden string was computed as: 001\n",
      "The real answer is: 001 it is thus correct\n"
     ]
    }
   ],
   "source": [
    "li_set = build_set(counts, n, shots)\n",
    "print(li_set)\n",
    "\n",
    "s_found = '0' * n\n",
    "for string in li_set:\n",
    "    for i in range(n):\n",
    "        if string[i] == '1':\n",
    "            # s_found[i] = '1' # Not allowed\n",
    "            s_found = s_found[:i] + '1' + s_found[i+1:]\n",
    "\n",
    "print(f\"The hidden string was computed as: {s_found}\")\n",
    "print(f\"The real answer is: {s} it is thus {'correct' if s_found == s else 'incorect'}\")\n"
   ]
  }
 ],
 "metadata": {
  "kernelspec": {
   "display_name": "venv",
   "language": "python",
   "name": "python3"
  },
  "language_info": {
   "codemirror_mode": {
    "name": "ipython",
    "version": 3
   },
   "file_extension": ".py",
   "mimetype": "text/x-python",
   "name": "python",
   "nbconvert_exporter": "python",
   "pygments_lexer": "ipython3",
   "version": "3.11.2"
  }
 },
 "nbformat": 4,
 "nbformat_minor": 2
}
